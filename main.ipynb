{
  "nbformat": 4,
  "nbformat_minor": 0,
  "metadata": {
    "colab": {
      "name": "main.ipynb",
      "version": "0.3.2",
      "provenance": [],
      "collapsed_sections": [],
      "include_colab_link": true
    },
    "kernelspec": {
      "name": "python3",
      "display_name": "Python 3"
    },
    "accelerator": "TPU"
  },
  "cells": [
    {
      "cell_type": "markdown",
      "metadata": {
        "id": "view-in-github",
        "colab_type": "text"
      },
      "source": [
        "<a href=\"https://colab.research.google.com/github/hungngo97/Fourier-transform-localization/blob/master/main.ipynb\" target=\"_parent\"><img src=\"https://colab.research.google.com/assets/colab-badge.svg\" alt=\"Open In Colab\"/></a>"
      ]
    },
    {
      "cell_type": "code",
      "metadata": {
        "id": "EYWTzFE3ZMTJ",
        "colab_type": "code",
        "colab": {}
      },
      "source": [
        "\"\"\"\n",
        "TODO: \n",
        "Step 1: Build dataset\n",
        "  - Probably 10 companies should be enough but try to gather from different fields\n",
        "  - Each company gather its 3 year(?) stock end of date history + related info \n",
        "  such as Description, Financial data such as high/low/Pricebook\n",
        "  ==> Each company is a row but stock data is a dataframe?\n",
        "  - Collect another data table for S&P 500 to keep track of local economy \n",
        "  to predict company's performance (https://datahub.io/core/s-and-p-500#readme)\n",
        "  ==> Try to match similar time from S&P500 for company stock data above\n",
        "  \n",
        "  TODO:\n",
        "  perform spectrogram -> clustering on that new spectrogram to detect pattern\n",
        "  perform 1D cnn\n",
        "  \n",
        "  TODO:\n",
        "  use a LSTM and transformer network to perform prediction\n",
        "  Introduce more local nearest neighbor later to improve prediction\n",
        "  \n",
        "  TODO:\n",
        "  Use sparse regression to interpret dependency between companies\n",
        "  \n",
        "  Vector Autoregression Moving-Average with Exogenous Regressors (VARMAX)\n",
        "  \n",
        "  Simple Exponential Smoothing (SES)\n",
        "  \n",
        "  Add more dimensions to input output LSTM\n",
        "  \n",
        "  Convolution NN for time series prediction\n",
        "  \n",
        "\"\"\""
      ],
      "execution_count": 0,
      "outputs": []
    },
    {
      "cell_type": "code",
      "metadata": {
        "id": "1laPhuSmvq5Q",
        "colab_type": "code",
        "colab": {}
      },
      "source": [
        "!pip install quandl"
      ],
      "execution_count": 0,
      "outputs": []
    },
    {
      "cell_type": "markdown",
      "metadata": {
        "id": "RcpoHfUh9RkM",
        "colab_type": "text"
      },
      "source": [
        "# Section 1: Reading Local Data from Google Drive"
      ]
    },
    {
      "cell_type": "code",
      "metadata": {
        "id": "BGqG7Ijp9WBI",
        "colab_type": "code",
        "colab": {}
      },
      "source": [
        "# Code to read csv file into Colaboratory:\n",
        "\n",
        "!pip install -U -q PyDrive\n",
        "from pydrive.auth import GoogleAuth\n",
        "from pydrive.drive import GoogleDrive\n",
        "from google.colab import auth\n",
        "from oauth2client.client import GoogleCredentials\n",
        "\n",
        "# Authenticate and create the PyDrive client.\n",
        "auth.authenticate_user()\n",
        "gauth = GoogleAuth()\n",
        "gauth.credentials = GoogleCredentials.get_application_default()\n",
        "drive = GoogleDrive(gauth)"
      ],
      "execution_count": 0,
      "outputs": []
    },
    {
      "cell_type": "code",
      "metadata": {
        "id": "TbJNc0lK9Y9W",
        "colab_type": "code",
        "colab": {}
      },
      "source": [
        "filenames = ['appl.csv', 'dow.csv', 'ge.csv', 'googl.csv', \n",
        "            'msft.csv', 'ndaq.csv', 'qcom.csv', 'sbux.csv',\n",
        "            'sp500.csv', 'companyInfo.csv']\n",
        "links = ['https://drive.google.com/open?id=16nTgI_dCcp_sE9D_9p4rGpnduor7TinZ',\n",
        "         'https://drive.google.com/open?id=1uGoY6WdxCikPQUQMkWT200MiL_osZl8p',\n",
        "        'https://drive.google.com/open?id=1gObLhrQAKjTuRRyUoQNM0i8WUyzPWaER',\n",
        "        'https://drive.google.com/open?id=1d0xSZw0IBzsyKWe0QUO8ELkZNsuJZTaz',\n",
        "        'https://drive.google.com/open?id=1YfIzYhvPi93lmWiu3kRp4_3ZXHrIlpKj',\n",
        "        'https://drive.google.com/open?id=1898MYq3yIl4HifdCLmjHbvxI-rZAMJyx',\n",
        "        'https://drive.google.com/open?id=1Uc1i8-1-y_rrUnRWf_NMknm6hI5XUROr',\n",
        "        'https://drive.google.com/open?id=1saxPuHUE_FxUzvLfAmCag6__Xdp0APw4',\n",
        "        'https://drive.google.com/open?id=1USDDk1ydtnOya_5mpBEus9u0AymEYr_6',\n",
        "        'https://drive.google.com/open?id=1YFTMkfRxxv9sQdKFXjzXScjfSaA2Q4Cr']\n",
        "for index, filename in enumerate(filenames):\n",
        "  _, id = links[index].split('=')\n",
        "  print (id) # Verify that you have everything after '='\n",
        "  downloaded = drive.CreateFile({'id':id}) \n",
        "  downloaded.GetContentFile(filename)"
      ],
      "execution_count": 0,
      "outputs": []
    },
    {
      "cell_type": "code",
      "metadata": {
        "id": "pHLaGi___Cy4",
        "colab_type": "code",
        "colab": {}
      },
      "source": [
        "import pandas as pd\n",
        "import numpy as np\n",
        "import matplotlib.pyplot as plt\n",
        "\n",
        "appl = pd.read_csv('appl.csv')\n",
        "dow = pd.read_csv('dow.csv')\n",
        "ge = pd.read_csv('ge.csv')\n",
        "googl = pd.read_csv('googl.csv')\n",
        "msft = pd.read_csv('msft.csv')\n",
        "ndaq = pd.read_csv('ndaq.csv')\n",
        "qcom = pd.read_csv('qcom.csv')\n",
        "sbux = pd.read_csv('sbux.csv')\n",
        "sp500 = pd.read_csv('sp500.csv')\n",
        "companyInfo = pd.read_csv('companyInfo.csv')"
      ],
      "execution_count": 0,
      "outputs": []
    },
    {
      "cell_type": "code",
      "metadata": {
        "id": "eC8nhbOV58JC",
        "colab_type": "code",
        "colab": {}
      },
      "source": [
        "appl.columns"
      ],
      "execution_count": 0,
      "outputs": []
    },
    {
      "cell_type": "code",
      "metadata": {
        "id": "EUNzZh8Gz00x",
        "colab_type": "code",
        "colab": {}
      },
      "source": [
        "fig, axs = plt.subplots(3,3, figsize=(15, 15))\n",
        "axs[0][0].plot(appl['close'])\n",
        "axs[0][1].plot(dow['close'])\n",
        "axs[0][2].plot(ge['close'])\n",
        "axs[1][0].plot(googl['close'])\n",
        "axs[1][1].plot(msft['close'])\n",
        "axs[1][2].plot(ndaq['close'])\n",
        "axs[2][0].plot(qcom['close'])\n",
        "axs[2][1].plot(sbux['close'])\n",
        "axs[2][2].plot(sp500['Real Price'])\n",
        "\n",
        "print(appl.shape)\n",
        "print(dow.shape)\n",
        "print(ge.shape)\n",
        "print(googl.shape)\n",
        "print(msft.shape)\n",
        "print(ndaq.shape)\n",
        "print(qcom.shape)\n",
        "print(sbux.shape)\n",
        "print(sp500.shape)\n"
      ],
      "execution_count": 0,
      "outputs": []
    },
    {
      "cell_type": "markdown",
      "metadata": {
        "id": "Isg0yGq796vu",
        "colab_type": "text"
      },
      "source": [
        "# Preprocess the data to be the same size"
      ]
    },
    {
      "cell_type": "code",
      "metadata": {
        "id": "3jjX9BSK_LJb",
        "colab_type": "code",
        "colab": {}
      },
      "source": [
        "data = {}\n",
        "sentiment_data = {}\n",
        "for timestep in dow['time']:\n",
        "#   print(\"[INFO] Current time: \" , str(timestep))\n",
        "  values = {}\n",
        "  values_sentiment = {}\n",
        "  shouldAdd = True\n",
        "  for company, name in [(appl, 'appl'), (dow, 'dow'), (ge, 'ge'), \n",
        "                  (googl, 'googl'), (msft, 'msft'), (ndaq, 'ndaq'),\n",
        "                  (qcom, 'qcom'), (sbux, 'sbux')]:\n",
        "    price = company.loc[(company['time'] >= timestep - 10000) \n",
        "                        & (company['time'] <= timestep + 100000)]\n",
        "    if price.empty:\n",
        "      shouldAdd = False\n",
        "      break\n",
        "    values[name] = price['close'].iloc[0] \n",
        "    values_sentiment[name] = price['MA100'].iloc[0]\n",
        "  if shouldAdd:\n",
        "#     print(\"[INFO] values at current time:\" , values)\n",
        "    data['t' + str(timestep)] = values\n",
        "    sentiment_data['t' + str(timestep)] = values_sentiment\n",
        "  \n",
        "  "
      ],
      "execution_count": 0,
      "outputs": []
    },
    {
      "cell_type": "code",
      "metadata": {
        "id": "pYkiui8kHDqT",
        "colab_type": "code",
        "colab": {}
      },
      "source": [
        "price_df = pd.DataFrame.from_dict(data).T\n",
        "sentiment_df = pd.DataFrame.from_dict(sentiment_data).T\n",
        "df.shape\n",
        "sentiment_df.shape"
      ],
      "execution_count": 0,
      "outputs": []
    },
    {
      "cell_type": "markdown",
      "metadata": {
        "id": "kljLXuB1MH4H",
        "colab_type": "text"
      },
      "source": [
        "# Perform Time Series Clustering Based On Price"
      ]
    },
    {
      "cell_type": "code",
      "metadata": {
        "id": "IvWXQ7nqIUHU",
        "colab_type": "code",
        "colab": {}
      },
      "source": [
        "from scipy import stats\n",
        "import scipy.cluster.hierarchy as hac\n",
        "\n",
        "\n",
        "price_df = price_df.dropna()\n",
        "sentiment_df = sentiment_df.dropna()\n",
        "df = price_df\n",
        "Z = hac.linkage(df.T, method='single', metric='correlation')\n"
      ],
      "execution_count": 0,
      "outputs": []
    },
    {
      "cell_type": "code",
      "metadata": {
        "id": "uQSzr6S9MRSK",
        "colab_type": "code",
        "colab": {}
      },
      "source": [
        "# Plot dendogram\n",
        "plt.figure(figsize=(25, 10))\n",
        "plt.title('Hierarchical Clustering Dendrogram')\n",
        "plt.xlabel('sample index')\n",
        "plt.ylabel('distance')\n",
        "hac.dendrogram(\n",
        "    Z,\n",
        "    leaf_rotation=90.,  # rotates the x axis labels\n",
        "    leaf_font_size=8.,  # font size for the x axis labels\n",
        ")\n",
        "plt.show()"
      ],
      "execution_count": 0,
      "outputs": []
    },
    {
      "cell_type": "code",
      "metadata": {
        "id": "6c8tXkpgNwy6",
        "colab_type": "code",
        "colab": {}
      },
      "source": [
        "from sklearn.decomposition import PCA\n",
        "num_pc = 2\n",
        "\n",
        "X = np.asarray(df)\n",
        "[n,m] = X.shape\n",
        "print(\"Timestamps: \", str(n))\n",
        "print(\"Stocks: \" , str(m))\n",
        "\n",
        "pca = PCA(n_components=num_pc) # number of principal components\n",
        "pca.fit(X)\n",
        "\n",
        "percentage =  pca.explained_variance_ratio_\n",
        "percentage_cum = np.cumsum(percentage)\n",
        "print('the variance is explained by the first 2 PCs: ', str(percentage_cum[-1]*100))\n",
        "\n",
        "pca_components = pca.components_"
      ],
      "execution_count": 0,
      "outputs": []
    },
    {
      "cell_type": "code",
      "metadata": {
        "id": "DhIE9YTAQawl",
        "colab_type": "code",
        "colab": {}
      },
      "source": [
        "x = np.arange(1,len(percentage)+1,1)\n",
        "\n",
        "plt.figure(figsize=(15,10))\n",
        "plt.subplot(1, 2, 1)\n",
        "plt.bar(x, percentage*100, align = \"center\")\n",
        "plt.title('Contribution of principal components',fontsize = 16)\n",
        "plt.xlabel('principal components',fontsize = 16)\n",
        "plt.ylabel('percentage',fontsize = 16)\n",
        "plt.xticks(x,fontsize = 16) \n",
        "plt.yticks(fontsize = 16)\n",
        "plt.xlim([0, num_pc+1])\n",
        "\n",
        "plt.subplot(1, 2, 2)\n",
        "plt.plot(x, percentage_cum*100,'ro-')\n",
        "plt.xlabel('principal components',fontsize = 16)\n",
        "plt.ylabel('percentage',fontsize = 16)\n",
        "plt.title('Cumulative contribution of principal components',fontsize = 16)\n",
        "plt.xticks(x,fontsize = 16) \n",
        "plt.yticks(fontsize = 16)\n",
        "plt.xlim([1, num_pc])\n",
        "plt.ylim([50,100]);"
      ],
      "execution_count": 0,
      "outputs": []
    },
    {
      "cell_type": "code",
      "metadata": {
        "id": "P0v_wCA_RI5F",
        "colab_type": "code",
        "colab": {}
      },
      "source": [
        "factor_returns = X.dot(pca_components.T)\n",
        "factor_returns = pd.DataFrame(columns=[\"factor 1\", \"factor 2\"], \n",
        "                              index=df.index,\n",
        "                              data=factor_returns)\n",
        "factor_returns.head()"
      ],
      "execution_count": 0,
      "outputs": []
    },
    {
      "cell_type": "code",
      "metadata": {
        "id": "79HeYAr7RoI6",
        "colab_type": "code",
        "colab": {}
      },
      "source": [
        "factor_exposures = pd.DataFrame(index=[\"factor 1\", \"factor 2\"], \n",
        "                                columns=df.columns,\n",
        "                                data = pca.components_).T"
      ],
      "execution_count": 0,
      "outputs": []
    },
    {
      "cell_type": "code",
      "metadata": {
        "id": "EfCy4aQ5SCbk",
        "colab_type": "code",
        "colab": {}
      },
      "source": [
        "factor_exposures"
      ],
      "execution_count": 0,
      "outputs": []
    },
    {
      "cell_type": "code",
      "metadata": {
        "id": "ttdFa9Y1SFZb",
        "colab_type": "code",
        "colab": {}
      },
      "source": [
        "labels = factor_exposures.index\n",
        "data = factor_exposures.values"
      ],
      "execution_count": 0,
      "outputs": []
    },
    {
      "cell_type": "code",
      "metadata": {
        "id": "zn-gt8vCSKAT",
        "colab_type": "code",
        "colab": {}
      },
      "source": [
        "plt.figure(figsize=(10,10))\n",
        "plt.subplots_adjust(bottom = 0.1)\n",
        "plt.scatter(\n",
        "    data[:, 0], data[:, 1], marker='o', s=300, c='m',\n",
        "    cmap=plt.get_cmap('Spectral'))\n",
        "plt.title('Scatter Plot of Coefficients of PC1 and PC2')\n",
        "plt.xlabel('factor exposure of PC1')\n",
        "plt.ylabel('factor exposure of PC2')\n",
        "\n",
        "for label, x, y in zip(labels, data[:, 0], data[:, 1]):\n",
        "    plt.annotate(\n",
        "        label,\n",
        "        xy=(x, y), xytext=(-20, 20),\n",
        "        textcoords='offset points', ha='right', va='bottom',\n",
        "        bbox=dict(boxstyle='round,pad=0.5', fc='yellow', alpha=0.5),\n",
        "        arrowprops=dict(arrowstyle = '->', connectionstyle='arc3,rad=0')\n",
        "    );"
      ],
      "execution_count": 0,
      "outputs": []
    },
    {
      "cell_type": "code",
      "metadata": {
        "id": "BWm2hC7_SOxK",
        "colab_type": "code",
        "colab": {}
      },
      "source": [
        "# TSNE\n",
        "from sklearn.manifold import TSNE\n",
        "tsne = TSNE(n_components=2, verbose=1, perplexity=40, n_iter=300)\n",
        "tsne_results = tsne.fit_transform(X.T)"
      ],
      "execution_count": 0,
      "outputs": []
    },
    {
      "cell_type": "code",
      "metadata": {
        "id": "PrxPA9jeT2BR",
        "colab_type": "code",
        "colab": {}
      },
      "source": [
        "import matplotlib.cm as cm\n",
        "colors = cm.rainbow(np.linspace(0, 1, len(tsne_results[:, 1])))\n",
        "fig, ax = plt.subplots(figsize=(10,10))\n",
        "ax.scatter(\n",
        "    tsne_results[:, 0], tsne_results[:, 1], c=colors )\n",
        "fig.legend(fontsize='small')\n",
        "for label, x, y in zip(labels, tsne_results[:, 0], tsne_results[:, 1]):\n",
        "    plt.annotate(\n",
        "        label,\n",
        "        xy=(x, y), xytext=(-20, 20),\n",
        "        textcoords='offset points', ha='right', va='bottom',\n",
        "        bbox=dict(boxstyle='round,pad=0.5', fc='yellow', alpha=0.5),\n",
        "        arrowprops=dict(arrowstyle = '->', connectionstyle='arc3,rad=0')\n",
        "    );"
      ],
      "execution_count": 0,
      "outputs": []
    },
    {
      "cell_type": "code",
      "metadata": {
        "id": "YIFe3S-6UYql",
        "colab_type": "code",
        "colab": {}
      },
      "source": [
        "corr = df.corr()\n",
        "corr.style.background_gradient(cmap='coolwarm')"
      ],
      "execution_count": 0,
      "outputs": []
    },
    {
      "cell_type": "markdown",
      "metadata": {
        "id": "p1rrRnyfTKGR",
        "colab_type": "text"
      },
      "source": [
        "# Spectrogram Clustering"
      ]
    },
    {
      "cell_type": "code",
      "metadata": {
        "id": "NHN1lRBDS4bg",
        "colab_type": "code",
        "colab": {}
      },
      "source": [
        "from scipy import signal\n",
        "fs = 2**15\n",
        "f, t, Sxx = signal.spectrogram(X[:,0], fs)\n",
        "plt.pcolormesh(t, f, Sxx)\n",
        "plt.ylabel('Frequency [Hz]')\n",
        "plt.xlabel('Time [sec]')\n",
        "plt.show()"
      ],
      "execution_count": 0,
      "outputs": []
    },
    {
      "cell_type": "markdown",
      "metadata": {
        "id": "FqlCbkj-XZ4j",
        "colab_type": "text"
      },
      "source": [
        "# Data Preprocessing"
      ]
    },
    {
      "cell_type": "code",
      "metadata": {
        "id": "GOlc_wqRXcZ1",
        "colab_type": "code",
        "colab": {}
      },
      "source": [
        "from pandas import DataFrame\n",
        "from pandas import concat\n",
        "\n",
        "def series_to_supervised(data, n_in=1, n_out=1, dropnan=True):\n",
        "\t\"\"\"\n",
        "\tFrame a time series as a supervised learning dataset.\n",
        "\tArguments:\n",
        "\t\tdata: Sequence of observations as a list or NumPy array.\n",
        "\t\tn_in: Number of lag observations as input (X).\n",
        "\t\tn_out: Number of observations as output (y).\n",
        "\t\tdropnan: Boolean whether or not to drop rows with NaN values.\n",
        "\tReturns:\n",
        "\t\tPandas DataFrame of series framed for supervised learning.\n",
        "\t\"\"\"\n",
        "\tn_vars = 1 if type(data) is list else data.shape[1]\n",
        "\tdf = DataFrame(data)\n",
        "\tcols, names = list(), list()\n",
        "\t# input sequence (t-n, ... t-1)\n",
        "\tfor i in range(n_in, 0, -1):\n",
        "\t\tcols.append(df.shift(i))\n",
        "\t\tnames += [('var%d(t-%d)' % (j+1, i)) for j in range(n_vars)]\n",
        "\t# forecast sequence (t, t+1, ... t+n)\n",
        "\tfor i in range(0, n_out):\n",
        "\t\tcols.append(df.shift(-i))\n",
        "\t\tif i == 0:\n",
        "\t\t\tnames += [('var%d(t)' % (j+1)) for j in range(n_vars)]\n",
        "\t\telse:\n",
        "\t\t\tnames += [('var%d(t+%d)' % (j+1, i)) for j in range(n_vars)]\n",
        "\t# put it all together\n",
        "\tagg = concat(cols, axis=1)\n",
        "\tagg.columns = names\n",
        "\t# drop rows with NaN values\n",
        "\tif dropnan:\n",
        "\t\tagg.dropna(inplace=True)\n",
        "\treturn agg\n",
        "\n",
        "# transform series into train and test sets for supervised learning\n",
        "def split_train_test(series, n_test):\n",
        "\t# split into train and test sets\n",
        "\ttrain, test = series.iloc[0:-n_test], series[-n_test:]\n",
        "\treturn train, test\n",
        "\n",
        "# transform series into train and test sets for supervised learning\n",
        "def prepare_data(series, n_test, n_lag, n_seq):\n",
        "\t# extract raw values\n",
        "\traw_values = series.values\n",
        "\traw_values = raw_values.reshape(len(raw_values), 1)\n",
        "\t# transform into supervised learning problem X, y\n",
        "\tsupervised = series_to_supervised(raw_values, n_lag, n_seq)\n",
        "\tsupervised_values = supervised.values\n",
        "\t# split into train and test sets\n",
        "\ttrain, test = supervised_values[0:-n_test], supervised_values[-n_test:]\n",
        "\treturn train, test\n",
        " "
      ],
      "execution_count": 0,
      "outputs": []
    },
    {
      "cell_type": "code",
      "metadata": {
        "id": "4r3N9ttPXfy5",
        "colab_type": "code",
        "colab": {}
      },
      "source": [
        "data = series_to_supervised(df)"
      ],
      "execution_count": 0,
      "outputs": []
    },
    {
      "cell_type": "code",
      "metadata": {
        "id": "00bEanN6Xp0H",
        "colab_type": "code",
        "colab": {}
      },
      "source": [
        "data_appl = concat([data['var1(t-1)'], data['var1(t)']], axis = 1)\n",
        "data_dow = concat([data['var2(t-1)'], data['var2(t)']], axis = 1)\n",
        "data_ge = concat([data['var3(t-1)'], data['var3(t)']], axis = 1)\n",
        "data_googl = concat([data['var4(t-1)'], data['var4(t)']], axis = 1)\n",
        "data_msft = concat([data['var5(t-1)'], data['var5(t)']], axis = 1)\n",
        "data_ndaq = concat([data['var6(t-1)'], data['var6(t)']], axis = 1)\n",
        "data_qcom = concat([data['var7(t-1)'], data['var7(t)']], axis = 1)\n",
        "data_sbux = concat([data['var8(t-1)'], data['var8(t)']], axis = 1)\n"
      ],
      "execution_count": 0,
      "outputs": []
    },
    {
      "cell_type": "code",
      "metadata": {
        "id": "4b8DLya5aVwC",
        "colab_type": "code",
        "colab": {}
      },
      "source": [
        "train_appl, test_appl = split_train_test(data_appl, 10)\n",
        "train_dow, test_dow = split_train_test(data_dow, 10)\n",
        "train_ge, test_ge = split_train_test(data_ge, 10)\n",
        "train_googl, test_googl = split_train_test(data_googl, 10)\n",
        "train_msft, test_msft = split_train_test(data_msft, 10)\n",
        "train_ndaq, test_ndaq = split_train_test(data_ndaq, 10)\n",
        "train_qcom, test_qcom = split_train_test(data_qcom, 10)\n",
        "train_sbux, test_sbux = split_train_test(data_sbux, 10)\n"
      ],
      "execution_count": 0,
      "outputs": []
    },
    {
      "cell_type": "code",
      "metadata": {
        "id": "hDNO6JVSb_1g",
        "colab_type": "code",
        "colab": {}
      },
      "source": [
        "def plot_train_test(train, test):\n",
        "  plt.plot(range(train.shape[0]), train.iloc[:,0],\n",
        "          range(train.shape[0], train.shape[0] + test.shape[0]),test.iloc[:,0] )"
      ],
      "execution_count": 0,
      "outputs": []
    },
    {
      "cell_type": "code",
      "metadata": {
        "id": "IbYCJ7Bsdhoi",
        "colab_type": "code",
        "colab": {}
      },
      "source": [
        ""
      ],
      "execution_count": 0,
      "outputs": []
    },
    {
      "cell_type": "code",
      "metadata": {
        "id": "wt-vBWDagatM",
        "colab_type": "code",
        "colab": {}
      },
      "source": [
        "# configure\n",
        "n_lag = 1\n",
        "n_seq = 3\n",
        "n_test = 10\n",
        "# prepare data\n",
        "train_appl, test_appl = prepare_data(df['appl'], n_test, n_lag, n_seq)\n",
        "train_dow, test_dow = prepare_data(df['dow'], n_test, n_lag, n_seq)\n",
        "train_ge, test_ge = prepare_data(df['ge'], n_test, n_lag, n_seq)\n",
        "train_googl, test_googl = prepare_data(df['googl'], n_test, n_lag, n_seq)\n",
        "train_qcom, test_qcom = prepare_data(df['qcom'], n_test, n_lag, n_seq)\n",
        "train_ndaq, test_ndaq = prepare_data(df['ndaq'], n_test, n_lag, n_seq)\n",
        "train_sbux, test_sbux = prepare_data(df['sbux'], n_test, n_lag, n_seq)\n",
        "train_msft, test_msft = prepare_data(df['msft'], n_test, n_lag, n_seq)"
      ],
      "execution_count": 0,
      "outputs": []
    },
    {
      "cell_type": "markdown",
      "metadata": {
        "id": "QwrLLSTviVgX",
        "colab_type": "text"
      },
      "source": [
        "# Trial 1: Plain LSTM Neural Net"
      ]
    },
    {
      "cell_type": "code",
      "metadata": {
        "id": "Ec4m0A2niZch",
        "colab_type": "code",
        "colab": {}
      },
      "source": [
        "from pandas import DataFrame\n",
        "from pandas import Series\n",
        "from pandas import concat\n",
        "from pandas import read_csv\n",
        "from pandas import datetime\n",
        "from sklearn.metrics import mean_squared_error\n",
        "from sklearn.preprocessing import MinMaxScaler\n",
        "from keras.models import Sequential\n",
        "from keras.layers import Dense\n",
        "from keras.layers import LSTM\n",
        "from math import sqrt\n",
        "from matplotlib import pyplot\n",
        "from numpy import array\n",
        "\n",
        "# date-time parsing function for loading the dataset\n",
        "def parser(x):\n",
        "\treturn datetime.strptime('190'+x, '%Y-%m')\n",
        "\n",
        "# convert time series into supervised learning problem\n",
        "def series_to_supervised(data, n_in=1, n_out=1, dropnan=True):\n",
        "\tn_vars = 1 if type(data) is list else data.shape[1]\n",
        "\tdf = DataFrame(data)\n",
        "\tcols, names = list(), list()\n",
        "\t# input sequence (t-n, ... t-1)\n",
        "\tfor i in range(n_in, 0, -1):\n",
        "\t\tcols.append(df.shift(i))\n",
        "\t\tnames += [('var%d(t-%d)' % (j+1, i)) for j in range(n_vars)]\n",
        "\t# forecast sequence (t, t+1, ... t+n)\n",
        "\tfor i in range(0, n_out):\n",
        "\t\tcols.append(df.shift(-i))\n",
        "\t\tif i == 0:\n",
        "\t\t\tnames += [('var%d(t)' % (j+1)) for j in range(n_vars)]\n",
        "\t\telse:\n",
        "\t\t\tnames += [('var%d(t+%d)' % (j+1, i)) for j in range(n_vars)]\n",
        "\t# put it all together\n",
        "\tagg = concat(cols, axis=1)\n",
        "\tagg.columns = names\n",
        "\t# drop rows with NaN values\n",
        "\tif dropnan:\n",
        "\t\tagg.dropna(inplace=True)\n",
        "\treturn agg\n",
        "\n",
        "# create a differenced series\n",
        "def difference(dataset, interval=1):\n",
        "\tdiff = list()\n",
        "\tfor i in range(interval, len(dataset)):\n",
        "\t\tvalue = dataset[i] - dataset[i - interval]\n",
        "\t\tdiff.append(value)\n",
        "\treturn Series(diff)\n",
        "\n",
        "# transform series into train and test sets for supervised learning\n",
        "def prepare_data(series, n_test, n_lag, n_seq):\n",
        "\t# extract raw values\n",
        "\traw_values = series.values\n",
        "\t# transform data to be stationary\n",
        "\tdiff_series = difference(raw_values, 1)\n",
        "\tdiff_values = diff_series.values\n",
        "\tdiff_values = diff_values.reshape(len(diff_values), 1)\n",
        "\t# rescale values to -1, 1\n",
        "\tscaler = MinMaxScaler(feature_range=(-1, 1))\n",
        "\tscaled_values = scaler.fit_transform(diff_values)\n",
        "\tscaled_values = scaled_values.reshape(len(scaled_values), 1)\n",
        "\t# transform into supervised learning problem X, y\n",
        "\tsupervised = series_to_supervised(scaled_values, n_lag, n_seq)\n",
        "\tsupervised_values = supervised.values\n",
        "\t# split into train and test sets\n",
        "\ttrain, test = supervised_values[0:-n_test], supervised_values[-n_test:]\n",
        "\treturn scaler, train, test\n",
        "\n",
        "# fit an LSTM network to training data\n",
        "def fit_lstm(train, n_lag, n_seq, n_batch, nb_epoch, n_neurons):\n",
        "\t# reshape training into [samples, timesteps, features]\n",
        "\tX, y = train[:, 0:n_lag], train[:, n_lag:]\n",
        "\tX = X.reshape(X.shape[0], 1, X.shape[1])\n",
        "\t# design network\n",
        "\tmodel = Sequential()\n",
        "\tmodel.add(LSTM(n_neurons, batch_input_shape=(n_batch, X.shape[1], X.shape[2]), stateful=True))\n",
        "\tmodel.add(Dense(y.shape[1]))\n",
        "\tmodel.compile(loss='mean_squared_error', optimizer='adam')\n",
        "\t# fit network\n",
        "\tfor i in range(nb_epoch):\n",
        "\t\tmodel.fit(X, y, epochs=1, batch_size=n_batch, verbose=0, shuffle=False)\n",
        "\t\tmodel.reset_states()\n",
        "\treturn model\n",
        "\n",
        "# make one forecast with an LSTM,\n",
        "def forecast_lstm(model, X, n_batch):\n",
        "\t# reshape input pattern to [samples, timesteps, features]\n",
        "\tX = X.reshape(1, 1, len(X))\n",
        "\t# make forecast\n",
        "\tforecast = model.predict(X, batch_size=n_batch)\n",
        "\t# convert to array\n",
        "\treturn [x for x in forecast[0, :]]\n",
        "\n",
        "# evaluate the persistence model\n",
        "def make_forecasts(model, n_batch, train, test, n_lag, n_seq):\n",
        "\tforecasts = list()\n",
        "\tfor i in range(len(test)):\n",
        "\t\tX, y = test[i, 0:n_lag], test[i, n_lag:]\n",
        "\t\t# make forecast\n",
        "\t\tforecast = forecast_lstm(model, X, n_batch)\n",
        "\t\t# store the forecast\n",
        "\t\tforecasts.append(forecast)\n",
        "\treturn forecasts\n",
        "\n",
        "# invert differenced forecast\n",
        "def inverse_difference(last_ob, forecast):\n",
        "\t# invert first forecast\n",
        "\tinverted = list()\n",
        "\tinverted.append(forecast[0] + last_ob)\n",
        "\t# propagate difference forecast using inverted first value\n",
        "\tfor i in range(1, len(forecast)):\n",
        "\t\tinverted.append(forecast[i] + inverted[i-1])\n",
        "\treturn inverted\n",
        "\n",
        "# inverse data transform on forecasts\n",
        "def inverse_transform(series, forecasts, scaler, n_test):\n",
        "\tinverted = list()\n",
        "\tfor i in range(len(forecasts)):\n",
        "\t\t# create array from forecast\n",
        "\t\tforecast = array(forecasts[i])\n",
        "\t\tforecast = forecast.reshape(1, len(forecast))\n",
        "\t\t# invert scaling\n",
        "\t\tinv_scale = scaler.inverse_transform(forecast)\n",
        "\t\tinv_scale = inv_scale[0, :]\n",
        "\t\t# invert differencing\n",
        "\t\tindex = len(series) - n_test + i - 1\n",
        "\t\tlast_ob = series.values[index]\n",
        "\t\tinv_diff = inverse_difference(last_ob, inv_scale)\n",
        "\t\t# store\n",
        "\t\tinverted.append(inv_diff)\n",
        "\treturn inverted\n",
        "\n",
        "# evaluate the RMSE for each forecast time step\n",
        "def evaluate_forecasts(test, forecasts, n_lag, n_seq):\n",
        "\tfor i in range(n_seq):\n",
        "\t\tactual = [row[i] for row in test]\n",
        "\t\tpredicted = [forecast[i] for forecast in forecasts]\n",
        "\t\trmse = sqrt(mean_squared_error(actual, predicted))\n",
        "\t\tprint('t+%d RMSE: %f' % ((i+1), rmse))\n",
        "\n",
        "# plot the forecasts in the context of the original dataset\n",
        "def plot_forecasts(series, forecasts, n_test):\n",
        "\t# plot the entire dataset in blue\n",
        "\tpyplot.plot(series.values)\n",
        "\t# plot the forecasts in red\n",
        "\tfor i in range(len(forecasts)):\n",
        "\t\toff_s = len(series) - n_test + i - 1\n",
        "\t\toff_e = off_s + len(forecasts[i]) + 1\n",
        "\t\txaxis = [x for x in range(off_s, off_e)]\n",
        "\t\tyaxis = [series.values[off_s]] + forecasts[i]\n",
        "\t\tpyplot.plot(xaxis, yaxis, color='red')\n",
        "\t# show the plot\n",
        "\tpyplot.show()\n",
        "\n",
        "# load dataset\n",
        "series = df['appl']\n",
        "# configure\n",
        "n_lag = 1\n",
        "n_seq = 3\n",
        "n_test = 10\n",
        "n_epochs = 1500\n",
        "n_batch = 1\n",
        "n_neurons = 1\n",
        "# prepare data\n",
        "scaler, train, test = prepare_data(series, n_test, n_lag, n_seq)\n",
        "# fit model\n",
        "model = fit_lstm(train, n_lag, n_seq, n_batch, n_epochs, n_neurons)\n",
        "# make forecasts\n",
        "forecasts = make_forecasts(model, n_batch, train, test, n_lag, n_seq)\n",
        "# inverse transform forecasts and test\n",
        "forecasts = inverse_transform(series, forecasts, scaler, n_test+2)\n",
        "actual = [row[n_lag:] for row in test]\n",
        "actual = inverse_transform(series, actual, scaler, n_test+2)\n",
        "# evaluate forecasts\n",
        "evaluate_forecasts(actual, forecasts, n_lag, n_seq)\n",
        "# plot forecasts\n",
        "plot_forecasts(series, forecasts, n_test+2)"
      ],
      "execution_count": 0,
      "outputs": []
    },
    {
      "cell_type": "code",
      "metadata": {
        "id": "Bt2okofz42EN",
        "colab_type": "code",
        "colab": {
          "base_uri": "https://localhost:8080/",
          "height": 320
        },
        "outputId": "4bbeea7f-85b2-4f77-e9ec-20a5cfb4de6c"
      },
      "source": [
        "series = df['ndaq']\n",
        "# configure\n",
        "n_lag = 1\n",
        "n_seq = 3\n",
        "n_test = 10\n",
        "n_epochs = 1500\n",
        "n_batch = 1\n",
        "n_neurons = 1\n",
        "# prepare data\n",
        "scaler, train, test = prepare_data(series, n_test, n_lag, n_seq)\n",
        "# fit model\n",
        "model = fit_lstm(train, n_lag, n_seq, n_batch, n_epochs, n_neurons)\n",
        "# make forecasts\n",
        "forecasts = make_forecasts(model, n_batch, train, test, n_lag, n_seq)\n",
        "# inverse transform forecasts and test\n",
        "forecasts = inverse_transform(series, forecasts, scaler, n_test+2)\n",
        "actual = [row[n_lag:] for row in test]\n",
        "actual = inverse_transform(series, actual, scaler, n_test+2)\n",
        "# evaluate forecasts\n",
        "evaluate_forecasts(actual, forecasts, n_lag, n_seq)\n",
        "# plot forecasts\n",
        "plot_forecasts(series, forecasts, n_test+2)"
      ],
      "execution_count": 176,
      "outputs": [
        {
          "output_type": "stream",
          "text": [
            "t+1 RMSE: 1.518766\n",
            "t+2 RMSE: 1.732322\n",
            "t+3 RMSE: 2.084867\n"
          ],
          "name": "stdout"
        },
        {
          "output_type": "display_data",
          "data": {
            "image/png": "[encoded data removed]",
            "text/plain": [
              "<Figure size 432x288 with 1 Axes>"
            ]
          },
          "metadata": {
            "tags": []
          }
        }
      ]
    },
    {
      "cell_type": "code",
      "metadata": {
        "id": "OZCKJWmP55w-",
        "colab_type": "code",
        "colab": {
          "base_uri": "https://localhost:8080/",
          "height": 320
        },
        "outputId": "91c2076a-9fc5-4863-9f60-80ee0d3853f3"
      },
      "source": [
        "series = df['googl']\n",
        "# configure\n",
        "n_lag = 1\n",
        "n_seq = 3\n",
        "n_test = 10\n",
        "n_epochs = 1500\n",
        "n_batch = 1\n",
        "n_neurons = 1\n",
        "# prepare data\n",
        "scaler, train, test = prepare_data(series, n_test, n_lag, n_seq)\n",
        "# fit model\n",
        "model = fit_lstm(train, n_lag, n_seq, n_batch, n_epochs, n_neurons)\n",
        "# make forecasts\n",
        "forecasts = make_forecasts(model, n_batch, train, test, n_lag, n_seq)\n",
        "# inverse transform forecasts and test\n",
        "forecasts = inverse_transform(series, forecasts, scaler, n_test+2)\n",
        "actual = [row[n_lag:] for row in test]\n",
        "actual = inverse_transform(series, actual, scaler, n_test+2)\n",
        "# evaluate forecasts\n",
        "evaluate_forecasts(actual, forecasts, n_lag, n_seq)\n",
        "# plot forecasts\n",
        "plot_forecasts(series, forecasts, n_test+2)"
      ],
      "execution_count": 177,
      "outputs": [
        {
          "output_type": "stream",
          "text": [
            "t+1 RMSE: 18.484968\n",
            "t+2 RMSE: 18.247634\n",
            "t+3 RMSE: 25.052202\n"
          ],
          "name": "stdout"
        },
        {
          "output_type": "display_data",
          "data": {
            "image/png": "[encoded data removed]",
            "text/plain": [
              "<Figure size 432x288 with 1 Axes>"
            ]
          },
          "metadata": {
            "tags": []
          }
        }
      ]
    },
    {
      "cell_type": "code",
      "metadata": {
        "id": "mMHrChTmpLyS",
        "colab_type": "code",
        "colab": {}
      },
      "source": [
        "# # plot the entire dataset in blue\n",
        "# pyplot.plot(series.values)\n",
        "# plot the forecasts in red\n",
        "for i in range(len(forecasts)):\n",
        "  off_s = len(series) - n_test + i - 1\n",
        "  off_e = off_s + len(forecasts[i]) + 1\n",
        "  if (off_e > len(series)): \n",
        "    break\n",
        "  xaxis = [x for x in range(off_s, off_e)]\n",
        "  yaxis = [series.values[off_s]] + forecasts[i]\n",
        "  pyplot.plot(xaxis, yaxis, color='red')\n",
        "  pyplot.plot(xaxis, series.values[xaxis])\n",
        "# show the plot\n",
        "pyplot.show()"
      ],
      "execution_count": 0,
      "outputs": []
    },
    {
      "cell_type": "markdown",
      "metadata": {
        "id": "VLEw7i7mZR_c",
        "colab_type": "text"
      },
      "source": [
        "# Sparse Regression to Retrieve Company Coefficients and Relationships"
      ]
    },
    {
      "cell_type": "code",
      "metadata": {
        "id": "ESXaPj2jZazE",
        "colab_type": "code",
        "colab": {}
      },
      "source": [
        ""
      ],
      "execution_count": 0,
      "outputs": []
    },
    {
      "cell_type": "markdown",
      "metadata": {
        "id": "RgUxvNw6UjwA",
        "colab_type": "text"
      },
      "source": [
        "# LSTM Neural Net Prediction"
      ]
    },
    {
      "cell_type": "code",
      "metadata": {
        "id": "r34aG-_iTwUX",
        "colab_type": "code",
        "colab": {}
      },
      "source": [
        ""
      ],
      "execution_count": 0,
      "outputs": []
    }
  ]
}